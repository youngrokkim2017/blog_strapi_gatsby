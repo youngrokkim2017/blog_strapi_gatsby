{
 "cells": [
  {
   "cell_type": "code",
   "execution_count": 1,
   "metadata": {},
   "outputs": [],
   "source": [
    "from utils import *"
   ]
  },
  {
   "cell_type": "code",
   "execution_count": 17,
   "metadata": {
    "scrolled": false
   },
   "outputs": [],
   "source": [
    "blog_author_regex = \"<wp:author_login><!\\[CDATA\\[(.*?)\\]\\]>.*<wp:author_display_name><!\\[CDATA\\[(.*?)]]><\\/wp:author_display_name>.*<\\/wp:author>\"\n",
    "mag_author_regex = \"<!\\[CDATA\\[_issuem_author_name\\]\\]><\\/wp:meta_key>[\\s\\S]*?<wp:meta_value><!\\[CDATA\\[(.*?)\\]\\]\"\n",
    "\n",
    "media_regex = \"<item>[\\s\\S]*?<guid .*?>(.*?)<\\/guid>[\\s\\S]*?<wp:post_parent>(.*?)<\\/wp:post_parent>[\\s\\S]*?<\\/item>\"\n",
    "blog_regex = \"<item>[\\s\\S]*?<title>(.*?)<\\/title>[\\s\\S]*?<link>(.*?)<\\/link>[\\s\\S]*?<dc:creator><!\\[CDATA\\[(.*?)\\]\\]><\\/dc:creator>[\\s\\S]*?p=(.*?)<\\/guid>[\\s\\S]*?<content:encoded><!\\[CDATA\\[([\\s\\S]*?)\\]\\][\\s\\S]*?<wp:post_date><!\\[CDATA\\[(.*?)\\]\\]><\\/wp:post_date>[\\s\\S]*?<\\/item>\"\n",
    "mag_regex = '<item>[\\s\\S]*?<title>(.*?)<\\/title>[\\s\\S]*?<link>(.*?)<\\/link>[\\s\\S]*?<guid[\\s\\S]*?p=(.*?)<\\/guid>[\\s\\S]*?<content:encoded><!\\[CDATA\\[([\\s\\S]*?)\\]\\]><\\/content:encoded>[\\s\\S]*?<wp:post_date><!\\[CDATA\\[(.*?)\\]\\]><\\/wp:post_date>[\\s\\S]*?<category domain=\"issuem_issue\"[\\s\\S]*?<!\\[CDATA\\[(.*?)\\]\\][\\s\\S]*?<!\\[CDATA\\[_issuem_author_name\\]\\]><\\/wp:meta_key>[\\s\\S]*?<wp:meta_value><!\\[CDATA\\[(.*?)\\]\\][\\s\\S]*?<\\/item>'\n",
    "\n",
    "authors = {}\n",
    "\n",
    "with open('posts/authors.xml', 'r') as xml:\n",
    "    contents = xml.read()\n",
    "    for i, auth_display_name in re.findall(blog_author_regex, contents):\n",
    "        authors[i] = auth_display_name\n",
    "\n",
    "with open('posts/magazine-articles.xml', 'r') as xml:\n",
    "    contents = xml.read()\n",
    "    for auth_display_name in re.findall(mag_author_regex, contents):\n",
    "        authors[auth_display_name] = auth_display_name\n",
    "\n",
    "media = {}\n",
    "        \n",
    "with open('posts/media.xml', 'r') as xml:\n",
    "    contents = xml.read()\n",
    "    for url, parent_id in re.findall(media_regex, contents):\n",
    "        media[parent_id] = url        \n",
    "        \n",
    "authors_df = pd.DataFrame(authors.values()).replace('', np.nan).dropna()\n",
    "article_title_categories = pd.read_csv('posts/article-categories.csv', header=None)\n",
    "categories = pd.read_csv('posts/categories.csv', header=None)"
   ]
  },
  {
   "cell_type": "code",
   "execution_count": 35,
   "metadata": {},
   "outputs": [
    {
     "name": "stdout",
     "output_type": "stream",
     "text": [
      "[======================================= ] 100%       featured_image given"
     ]
    }
   ],
   "source": [
    "blog_posts = []\n",
    "\n",
    "with open('posts/export.xml', 'r') as xml:\n",
    "    contents = xml.read()\n",
    "    draw_progress_bar(0)\n",
    "    matches = re.findall(blog_regex, contents)\n",
    "    for i, post in enumerate(matches):\n",
    "        blog_posts.append({})\n",
    "        ID = post[3]\n",
    "\n",
    "        blog_posts[-1][\"id\"] = ID\n",
    "        blog_posts[-1][\"bsr_permalink\"] = post[1]\n",
    "        blog_posts[-1][\"title\"] = markdownify(post[0])\n",
    "        blog_posts[-1][\"author\"] = authors[post[2]]\n",
    "        \n",
    "        \n",
    "        if post[5]:\n",
    "            blog_posts[-1][\"created_at\"] = parser.parse(post[5]).strftime('%d %B %Y %I:%M%p')\n",
    "            \n",
    "        blog_posts[-1]['issue'] = np.nan\n",
    "        \n",
    "        if ID in media:\n",
    "            blog_posts[-1]['featured_image'] = media[ID]\n",
    "            flag = 'featured_image given'\n",
    "            \n",
    "        else:\n",
    "            flag = 'no image'\n",
    "            pass\n",
    "#             blog_posts[-1]['featured_image'], flag = retrieve_img(post[1])\n",
    "            \n",
    "        newlines = re.sub('\\n', '<br><br>', post[4])\n",
    "        hlines = re.sub('<hr />', '-------', newlines)\n",
    "        out = re.sub('<!-- .*? -->', '', hlines)\n",
    "        final = re.sub(r'\\[caption .*?\\](.*?\\/>) (.*?)\\[\\/caption\\]', r'\\1<br><em>\\2</em>', out)\n",
    "\n",
    "        md = markdownify(final, heading_style=ATX).lstrip()\n",
    "        final = re.sub('\\n\\s*\\n', '<br><br>', md)\n",
    "#         final = re.sub(r'\\[caption .*?src=\"(.*?)\"[\\s\\S]*?\\[\\/caption\\]',r'<img src=\"\\1\"/>',final)\n",
    "#         print(final)\n",
    "        \n",
    "        blog_posts[-1][\"markdown\"] = markdownify(final, heading_style=ATX).lstrip()\n",
    "\n",
    "        draw_progress_bar(i/len(matches), flag)\n",
    "\n",
    "blog_posts = pd.DataFrame(blog_posts)\n",
    "blog_posts = blog_posts[~blog_posts['bsr_permalink'].str.contains(\"trashed\")]"
   ]
  },
  {
   "cell_type": "code",
   "execution_count": 87,
   "metadata": {},
   "outputs": [
    {
     "name": "stdout",
     "output_type": "stream",
     "text": [
      "[======================================= ] 100%       no image            "
     ]
    }
   ],
   "source": [
    "articles = []\n",
    "\n",
    "with open('posts/magazine-articles.xml', 'r') as xml:\n",
    "    contents = xml.read() \n",
    "    draw_progress_bar(0)\n",
    "    matches = re.findall(mag_regex, contents)\n",
    "    for i, article in enumerate(matches):\n",
    "        articles.append({})\n",
    "        ID = article[2]\n",
    "\n",
    "        articles[-1][\"id\"] = ID\n",
    "        articles[-1]['issue'] = np.nan\n",
    "        articles[-1][\"bsr_permalink\"] = article[1]\n",
    "        articles[-1][\"title\"] = markdownify(article[0])\n",
    "        articles[-1][\"author\"] = authors[article[6]]\n",
    "        \n",
    "        if article[5]:\n",
    "            articles[-1][\"created_at\"] = parser.parse(article[4]).strftime('%d %B %Y %I:%M%p')\n",
    "\n",
    "        articles[-1]['issue'] = article[5]\n",
    "            \n",
    "        if ID in media:\n",
    "            articles[-1]['featured_image'] = media[ID]\n",
    "            flag = 'featured_image given'\n",
    "        else:\n",
    "            flag = 'no image'\n",
    "            pass\n",
    "#             articles[-1]['featured_image'], flag = retrieve_img(article[1])\n",
    "            \n",
    "        newlines = re.sub('\\n', '<br><br>', article[3])\n",
    "        hlines = re.sub('<hr />', '-------', newlines)\n",
    "        out = re.sub('<!-- .*? -->', '', hlines)\n",
    "        final = re.sub(r'\\[caption .*?\\](.*?\\/>) (.*?)\\[\\/caption\\]', r'\\1<br><em>\\2</em>', out)\n",
    "        final = re.sub(r'\\[caption .*?\\].*?(<img.*?\\/>).*?<\\/a> .*?(.*?)\\[\\/caption\\]', r'\\1<br><em>\\2</em>', final)\n",
    "\n",
    "        md = markdownify(final, heading_style=ATX).lstrip()\n",
    "        final = re.sub('\\n\\s*\\n', '<br><br>', md)\n",
    "        \n",
    "        articles[-1][\"markdown\"] = out\n",
    "\n",
    "        draw_progress_bar(i/len(matches), flag)\n",
    "\n",
    "articles = pd.DataFrame(articles)\n",
    "articles = articles[~articles['bsr_permalink'].str.contains(\"trashed\")]"
   ]
  },
  {
   "cell_type": "code",
   "execution_count": 88,
   "metadata": {
    "scrolled": false
   },
   "outputs": [
    {
     "name": "stdout",
     "output_type": "stream",
     "text": [
      "When plans were first proposed to convert the aging steam plant on UC Berkeley’s campus into a combined heat and power cogeneration facility in the late 1970s, it was seen as a major innovation in energy efficiency. Thirty years later, the aging facility is presenting campus leadership with a problem: UC Berkeley is directly responsible for the emissions associated with the cogeneration plant, which, as of last year, accounted for 73 percent of the university’s total greenhouse gas emissions. Given UC Berkeley’s pledge to reduce greenhouse gas emissions to zero by 2025—and the increasing age of the plant—the university now faces a time-sensitive decision about the cogeneration plant’s future. The challenge of how best to provide energy to UC Berkeley’s campus involves not only the science of energy, sustainability, and resiliency, but also additional interactions with political and cost-related human factors, making this a particularly complex issue to resolve.<br><br><h2>What is a cogeneration plant?</h2><br><br>In a traditional coal-fired power plant, fuel is burned, emitting heat and greenhouse gases, such as carbon dioxide. The heat generated from this process is used to boil water into steam, which then passes through a turbine to produce electricity. However, only around 30-50 percent of the energy released from coal is converted into electricity, and the excess steam is condensed into liquid water and sent back to the plant. On the other hand, cogeneration—or cogen—plants produce both electricity and steam for the community. Cogen plants achieve much higher efficiencies of 65-75 percent by capturing the steam produced while making electricity and using it to heat buildings. This process also reduces the need to burn additional fossil fuels to generate steam from a boiler or steam generator. CO<sub>2</sub> emissions from cogen plants are accordingly significantly lower than separate coal-fired electricity and steam plants per unit of electrical production.<br><br><br><br>UC Berkeley’s cogen plant increases its efficiency even further by using natural gas as its fuel source, which generates roughly half the CO<sub>2</sub> emissions of coal. However, cost, rather than efficiency, motivates this choice of fuel source. Norris Herrington, the manager of UC Berkeley’s cogen plant, says, “You don’t have to truck [natural gas] in. It comes in in a pipeline and it’s cheap on a per unit basis.” He elaborates that the cost of shipping in diesel or coal would be “a heck of a lot more.”<br><br><br><br>Despite being more energy efficient than their counterparts, cogen facilities tend to be less common than traditional power plants because, unlike electricity, it is hard to transport steam over large distances. This transportation difficulty means that any institution using steam generated from a cogen plant needs to be close by—“half a mile away maybe, or a quarter of a mile down the road,” according to Herrington. The steam generated by UC Berkeley’s cogen plant is distributed to approximately 120 buildings on campus for heating and cooling. To reach each building, the steam travels across campus through a series of underground tunnels. Although they are filled with hazards including hot steam, asbestos, and radon gas, these tunnels previously served as a tourist attraction, student haunt, shortcut between lectures, and—allegedly—an escape route for the chancellor fleeing student protests in the 1960s. The steam tunnels have since been sealed off, but students can still see the steam that leaks out from gratings and manholes around campus.<br><br><br><br>While the cogen plant was initially able to meet 100 percent of the campus’s energy needs when it first opened in 1987, due to large increases in the campus population, it now supplies an average of 92 percent of campus’s power demand while operating at maximum capacity. Additional electricity is supplemented by Pacific Gas and Electric (PG&amp;E). The plant can occasionally produce more energy than the campus needs at off-peak times, such as nights and weekends, but the capacity to store the excess energy produced is not yet available. As Herrington explains, “You can’t really store that amount of energy in a battery” because of current limitations on batteries’ maximum storage capacity and lifetime.<br><br><br><br>&nbsp;<br><br><br><br>[caption id=\"attachment_17980\" align=\"aligncenter\" width=\"1024\"]<a class=\"lightbox\" href=\"https://berkeleysciencereview.com/article/powering-down/01_cogeneration_web-2/\" rel=\"attachment wp-att-17980\"><img class=\"wp-image-17980 size-full\" src=\"https://berkeleysciencereview.com/wp-content/uploads/2020/11/01_Cogeneration_Web-1.png\" alt=\"\" width=\"1024\" height=\"458\" /></a> Design: Emily Gonthier[/caption]<br><br><h2></h2><br><br><h2>Cogen versus the 2025 carbon neutrality goals</h2><br><br>UC Berkeley’s cogen plant was initially owned by a third party, which sold its steam to the campus and its power to PG&amp;E. However, after the third party’s lease for the plant expired in 2017, campus leadership made the decision to take over ownership of the plant because UC Berkeley wanted a greater stake in the plant’s future. Sally McGarrahan, the associate vice chancellor for facilities at UC Berkeley, explains, “We saw the energy world changing, and locking ourselves into another long-term arrangement with an owner operator would have limited our options for managing our own decisions.”<br><br><br><br>With ownership, however, comes direct responsibility for the emissions associated with the plant. In subscribing to the UC-wide Carbon Neutrality Initiative, the campus has committed to being carbon neutral for building and fleet energy use by 2025. This pledge puts the future of the cogen plant in doubt, given that it runs off natural gas— a fuel which accounts for almost two-thirds of UC Berkeley’s emissions. While McGarrahan believes that “the simplest, cheapest thing to do would be to fix the plant we have now,” she says that the campus is considering a range of options to meet the campus’s energy needs for the future and to fulfill President Napolitano’s carbon neutrality pledge.<br><br><br><br>Not everyone believes that the natural-gas run cogen plant is truly damaging for the environment. While natural gas is a fossil fuel, the carbon dioxide and nitrogen oxide emissions associated with its combustion are much lower than those of coal and oil. As a result, some, including Herrington, consider it a relatively clean fuel. Herrington argues, “California is about the only place that doesn’t consider natural gas clean. In every other state in the country natural gas is clean; that’s what I grew up hearing.” Combustion emissions, however, are not the only source of greenhouse gas emissions associated with natural gas. The drilling and extraction of natural gas from wells and its transportation in pipelines can also result in leakages of methane, a greenhouse gas that traps even more heat than CO<sub>2</sub>. The process of hydraulic fracturing, or fracking, typically used to extract natural gas, is also associated with significant environmental impacts, such as increased erosion, ground and surface water contamination, and earthquakes. Dan Kammen, professor of energy at UC Berkeley who works on decarbonizing energy systems worldwide, vehemently disagrees with Herrington about the environmental impact of natural gas: “It’s not relatively clean—that’s just a lie. It’s a fossil fuel,” citing the greenhouse gases produced from both burning and leaked natural gas.<br><br><br><br>UC Berkeley has already reduced emissions from the plant since reclaiming ownership by making significant changes to its operations, but it’s not enough. Reducing the plant’s output during the evening when less energy is needed—rather than running it at full capacity all the time—has slightly lowered its greenhouse gas emissions, but far more significant and extensive reductions in natural gas usage and energy generation are required in order to meet the 2025 carbon neutrality goals. As McGarrahan says, “Everything is on the table to figure out how to move towards carbon neutrality under a cost model that we can make happen.” Options currently being considered range from keeping the plant open with adaptions to decommissioning it entirely.<br><br><h2>Rethinking the cogen plant</h2><br><br>[caption id=\"attachment_17982\" align=\"alignright\" width=\"461\"]<a class=\"lightbox\" href=\"https://berkeleysciencereview.com/article/powering-down/02_cogenupgrade_web/\" rel=\"attachment wp-att-17982\"><img class=\"wp-image-17982\" src=\"https://berkeleysciencereview.com/wp-content/uploads/2020/11/02_CogenUpgrade_Web.png\" alt=\"\" width=\"461\" height=\"225\" /></a> Design: Emily Gonthier[/caption]<br><br><br><br>If UC Berkeley continues to use the cogen plant, the campus will have to modify infrastructure in the plant itself to make it more energy efficient. Ideas of reforming the plant are driven by the cogen facility’s age. Herrington believes that the 33-year-old plant has around 10 years left: “It’s probably getting on up there in age, but personally I think we could make it until 40.” As a result of the plant’s age, significant and expensive upgrades are necessary to keep it operational at its current capacity, but these upgrades also provide a convenient opportunity to improve the plant beyond its current state. As McGarrahan explains, “We should certainly invest towards the future instead of just thinking of the immediate.” UC Berkeley had one of the first cogen plants across the UC system, so the plant is now one of the first to approach the end of its expected life. “We hope to set a path for these other campuses as they come to the end of their cogen’s life,” she says.<br><br><br><br>[caption id=\"attachment_17987\" align=\"alignleft\" width=\"437\"]<img class=\"wp-image-17987\" src=\"https://berkeleysciencereview.com/wp-content/uploads/2020/11/03_Biogas_Web.png\" alt=\"\" width=\"437\" height=\"213\" /> Design: Emily Gonthier[/caption]<br><br><br><br>Another scenario is to use alternative fuels to power the plant, rather than natural gas. For example, the plant could use biogas, also known as biogenic methane, which is a gas produced from the decomposition of organic materials such as agricultural waste, landfill materials, and solids from wastewater treatment plants. Biogas is made from plants, which naturally remove CO<sub>2</sub> from the air as they grow, so the emissions from burning biogas are typically considered carbon neutral. Once impurities such as water and heavy metals are removed, biogas can be directly substituted for natural gas.<br><br><br><br>&nbsp;<br><br><br><br>[caption id=\"attachment_17988\" align=\"alignright\" width=\"609\"]<a class=\"lightbox\" href=\"https://berkeleysciencereview.com/article/powering-down/04_heatpump_web/\" rel=\"attachment wp-att-17988\"><img class=\"wp-image-17988\" src=\"https://berkeleysciencereview.com/wp-content/uploads/2020/11/04_Heatpump_Web.png\" alt=\"\" width=\"609\" height=\"338\" /></a> Design: Emily Gonthier[/caption]<br><br><br><br>But, just like natural gas, biogas also comes with several disadvantages. The largest concern is the limited availability and transportation infrastructure of biogas nationwide. Biogas currently is not considered a scalable alternative to natural gas, with the National Renewable Energy Laboratory estimating that the current biogas resources in the US would only satisfy 1.5 percent of its natural gas consumption. Herrington also believes that biogas is not be a feasible solution from a financial perspective, stating that the UC Office of the President’s investments in “some biogas in Louisiana or something … really aren’t economically viable and wouldn’t exist if they weren’t being subsidized.” Kammen additionally calls the discussion about non-renewable fuels, such as biogas, “unfortunate.” He questions the feasibility of switching out natural gas for lower-carbon biofuels: “The more we dig in on [fuel alternatives], the more we discover this is just not a viable pathway.” Kammen also explains that biofuels often come at the expense of forests or crops and require high levels of pesticides and irrigation to cultivate, resulting in higher carbon emissions than initially apparent. “It doesn’t make any sense to invest in things which we know aren’t sustainable,” he says.<br><br><br><br>Alternatively, campus could create a new hybrid heating and electricity system, using the cogen plant only for emergency backup. In such a system, the majority of the campus’s heating needs would derive from a heat pump—an externally powered device that transports heat from one place to another—while electricity would be mainly sourced from the grid. Meanwhile, the cogen plant’s operation would be reduced to provide backup power, for instance, in an electricity shutdown, and to serve as a backup source of heat when it is cold. This strategy is similar to the route taken by the natural gas-run cogen plant at UC San Diego, which is now only used as a backup when biogas and solar photovoltaic sources are insufficient to meet the campus’s energy needs. Kammen cites the UC San Diego campus as a potential guide for a similar transition to 100 percent clean energy. “We know it can work. UC San Diego essentially already has such a plan—they’re not entirely there, but they went to batteries and solar and we need to do a version of that,” he says.<br><br><br><br>However, he also acknowledges that in order to get the Berkeley campus off fossil fuels entirely we “need to push more aggressively.” Kammen suggests that reducing the cogen plant to a backup power source would mean that UC Berkeley would still ultimately be reliant on natural gas and fossil fuels. He advocates for fully decommissioning the plant and powering the campus through purchased electricity and renewables alone in order for UC Berkeley to take the bigger, bolder active steps and really “walk the walk.”<br><br><h2>Shutting down the cogen plant</h2><br><br>The most aggressive plan to meet the carbon-neutral pledge is to fully decommission the cogen plant and instead use energy generation from entirely renewable sources. In such a scenario, most of the campus’s electricity would come from PG&amp;E, which generates 86 percent of its electricity from greenhouse gas-free sources as of 2019, with an additional contribution from on-site solar and fuel cells. Since the campus is land and sun poor, it could not rely on its own renewable sources alone to fully meet its electricity demands.<br><br><br><br>[caption id=\"attachment_17989\" align=\"alignright\" width=\"528\"]<img class=\"wp-image-17989\" src=\"https://berkeleysciencereview.com/wp-content/uploads/2020/11/05_FuelCells_Web.png\" alt=\"\" width=\"528\" height=\"281\" /> Design: Emily Gonthier[/caption]<br><br><br><br>While clean electricity like solar power has become more accessible and cheaper, renewable heat is generally much more expensive and difficult to obtain. Kammen, however, argues that “it’s not that it’s difficult; it’s just that we’re not used to it.” He points to fuel cells as a potential zero-carbon heating solution. Fuel cells work in a similar way to batteries, generating heat and electricity through electro-chemical reactions. In a hydrogen fuel cell, the hydrogen molecules are separated into building blocks that can combine with oxygen to produce water and heat. This technology has been used by NASA since the 1970s to generate drinking water for astronauts in space. Kammen argues that the heat generated by a hydrogen fuel cell could be used to meet campus’s more modest heating needs, like warming dormitories. To produce higher-temperatures required for more energy-intensive laboratories, Kammen recommends using solid oxide fuel cells, which operate at higher temperatures than hydrogen fuel cells. Overall, he says that the use of both hydrogen and solid oxide fuel cells will give the campus a pathway to skip over biofuels and “really jump to a clean energy system directly.”<br><br><br><br>[caption id=\"attachment_17990\" align=\"alignleft\" width=\"331\"]<a class=\"lightbox\" href=\"https://berkeleysciencereview.com/article/powering-down/06_steamwater_web/\" rel=\"attachment wp-att-17990\"><img class=\"wp-image-17990\" src=\"https://berkeleysciencereview.com/wp-content/uploads/2020/11/06_SteamWater_Web.png\" alt=\"\" width=\"331\" height=\"197\" /></a> Design: Emily Gonthier[/caption]<br><br><p style=\"text-align: left;\">Mary Ann Piette, a staff scientist at the Lawrence Berkeley National Laboratory (LBL) whose research focuses on building energy efficiency efforts, also emphasizes the need to transition away from heating via steam, which she calls “very inefficient and very leaky.” She instead cites systems like the district heating and cooling system that was recently installed at Stanford, where stores of hot and cold water are kept and pumped around the campus, because “water is a lot more efficient to pump around than steam.” She also mentions the potential of new systems currently being used in Europe, where water is stored in pipes underground and heated when needed using pumps that extract thermal energy from the ground. “There are all sorts of ideas around these super-efficient heating and cooling systems, which UC Berkeley is a potential candidate for,” she says.</p><br><br>However, the cost of decommissioning the plant is a serious disadvantage. According to Herrington, when Stanford recently shut down their “perfectly good” cogen plant to transition to their all-electric hot water system, it wasn’t cheap: “My estimates are, if we went all electric with some sort of hot water system, the cost would be a quarter of a million dollars, and then you’re talking $25 million a year more in terms of electric bills.” He says, “While the price of natural gas is staying flat, PG&amp;E’s price is going up 6-7 percent each year.” Technological advances have made it possible to produce more natural gas than meets demand, but PG&amp;E rates have increased at a much faster rate than inflation due to fire safety improvements to help reduce the risk of future fires. As it stands, PG&amp;E’s customers are already paying some of the highest electricity rates in the state, averaging 20.06 cents per kilowatt hour, compared to the statewide average of 16.06 cents per kilowatt and the national average of 10.48 cents per kilowatt hour.<br><br><br><br>While Kammen also acknowledges that upfront cost is one of the major challenges involved in transitioning campus away from fossil fuels, he proposes that “in the long term, moving to renewables and storage will save us money.” He believes UC Berkeley could make money from selling excess renewable energy generated on campus back to PG&amp;E. An additional consideration is that the plant is so old that sometime in the next 5-10 years, a significant investment is going to be necessary to keep it running at its current capacity, according to the director of UC Berkeley’s Office of Sustainability, Kira Stoll. As McGarrahan states, “Anything we do is going to be expensive.” She also emphasizes that the cost of transitioning away from the cogen will be upfront rather than sustained, and requires a mix of debt, donations, and grants as possible means to finance campus’s future energy landscape.<br><br><h2>Energy resiliency</h2><br><br>An additional—and increasingly important—consideration for any future energy scenario on campus is resiliency. A resilient energy system would keep campus powered in emergencies that make external electricity unavailable. The cogen plant is resilient but buying the majority of our electricity from PG&amp;E would not be. Stoll states, “We need to create that same kind of resiliency we have right now with our own plant with whatever system we move to.”<br><br><br><br>Considerations of energy resilience have become more pressing since the PG&amp;E shutdowns of 2019. As McGarrahan explains, “We were aware, but not with the hyper-awareness we gained last fall, so this has affected our planning.” She shares that one potential direction under consideration is maintaining the cogen plant to keep serving the southside of campus, with the capability to provide electricity to the whole campus as backup. The rest of campus’s heating needs would be served by the introduction of smaller, more localized nodal thermal plants distributed around the campus. The advantage of localized generation of energy is increased efficiency while phasing the campus towards serving the heavier loads if needed. While using the cogen plant as a potential backup source of electricity for the whole campus was not originally considered in this scenario, it is now being included in order to provide a reliable source of backup power in the case of recurring problems with power delivery from PG&amp;E.<br><br><br><br>Kammen believes that an energy-resilient campus and a sustainable campus are not incompatible. He suggests that a potential solution would be to use our available physical resources around campus, including the current site of the cogen plant, to house different energy storage technology such as lithium ion batteries, flow batteries, and fly wheels that would provide “several days’ capacity of storage on site.” LBL staff scientist Piette also echoes the call for clean backup in the form of “photovoltaics and batteries for as much as we can,” in combination with a cultural shift to using less energy on campus. For example, people on campus could limit the use of energy-intensive equipment to the middle of the day when more renewable energy sources like wind and solar are available and electricity from the grid is at its cleanest and cheapest. Additionally, people could be more prepared to enter and emerge from emergency modes. “We could run parts of the buildings and keep things up, but … not turn the entire campus off,” Piette suggests.<br><br><h2>Next steps</h2><br><br>Campus leadership and other stakeholders on campus—including financial experts, engineers, and faculty across a range of departments—are currently in the lengthy process of evaluating the proposed energy scenarios from several different perspectives, including capital costs, potential environmental impacts, the type of land-use required, cost to update current infrastructure, and how to meet the UC policy around carbon neutrality.<br><br><br><br>Stoll explains that an additional major challenge of trying to plan for a long-term future without the cogen plant is that technology in this area, especially energy storage, are constantly evolving and changing. “The other thing we’re looking at is how can we build something that can accommodate new, lower cost technology going forward, as they become available,” Stoll conveys. Plans must be flexible enough to incorporate new technologies as they arise. As McGarahan says, “We try to be aware all the time of not putting too rigid a box around what we’re doing … fuel cells, hydrogen—you name it, we’re interested.”<br><br><br><br>Ultimately, the future of UC Berkeley’s cogen plant depends upon a collision of factors: cost, social and political dynamics, and the ever-evolving science behind energy resiliency, technology, and sustainability. The 2025 carbon neutrality goal, however, adds additional pressure for a decision about the future of the cogen plant to be made quickly. As Kammen states, “We either make it or not based on the decision now.”<br><br><br><br>&nbsp;<br><br><br><br>[caption id=\"attachment_17991\" align=\"aligncenter\" width=\"1024\"]<a class=\"lightbox\" href=\"https://berkeleysciencereview.com/article/powering-down/07_stakeholders_web/\" rel=\"attachment wp-att-17991\"><img class=\"wp-image-17991 size-full\" src=\"https://berkeleysciencereview.com/wp-content/uploads/2020/11/07_Stakeholders_Web.png\" alt=\"\" width=\"1024\" height=\"634\" /></a> Design: Emily Gonthier[/caption\n"
     ]
    }
   ],
   "source": [
    "print(articles.loc[356, 'markdown'])"
   ]
  },
  {
   "cell_type": "code",
   "execution_count": 38,
   "metadata": {
    "scrolled": false
   },
   "outputs": [],
   "source": [
    "for i, row in article_title_categories.iterrows():\n",
    "#     print('Primary:',row[1], 'Secondary:', row[2])\n",
    "#     print(posts[posts['title'] == row[0]])\n",
    "#     print(i)\n",
    "    pass\n",
    "    "
   ]
  },
  {
   "cell_type": "code",
   "execution_count": 68,
   "metadata": {},
   "outputs": [
    {
     "data": {
      "text/html": [
       "<div>\n",
       "<style scoped>\n",
       "    .dataframe tbody tr th:only-of-type {\n",
       "        vertical-align: middle;\n",
       "    }\n",
       "\n",
       "    .dataframe tbody tr th {\n",
       "        vertical-align: top;\n",
       "    }\n",
       "\n",
       "    .dataframe thead th {\n",
       "        text-align: right;\n",
       "    }\n",
       "</style>\n",
       "<table border=\"1\" class=\"dataframe\">\n",
       "  <thead>\n",
       "    <tr style=\"text-align: right;\">\n",
       "      <th></th>\n",
       "      <th>id</th>\n",
       "      <th>issue</th>\n",
       "      <th>bsr_permalink</th>\n",
       "      <th>title</th>\n",
       "      <th>author</th>\n",
       "      <th>created_at</th>\n",
       "      <th>markdown</th>\n",
       "      <th>featured_image</th>\n",
       "    </tr>\n",
       "  </thead>\n",
       "  <tbody>\n",
       "    <tr>\n",
       "      <th>356</th>\n",
       "      <td>17837</td>\n",
       "      <td>Fall 2020</td>\n",
       "      <td>https://berkeleysciencereview.com/article/powe...</td>\n",
       "      <td>Powering down</td>\n",
       "      <td>Leela Velautham</td>\n",
       "      <td>30 November 2020 02:22AM</td>\n",
       "      <td>When plans were first proposed to convert the ...</td>\n",
       "      <td>https://berkeleysciencereview.com/wp-content/u...</td>\n",
       "    </tr>\n",
       "  </tbody>\n",
       "</table>\n",
       "</div>"
      ],
      "text/plain": [
       "        id      issue                                      bsr_permalink  \\\n",
       "356  17837  Fall 2020  https://berkeleysciencereview.com/article/powe...   \n",
       "\n",
       "             title           author                created_at  \\\n",
       "356  Powering down  Leela Velautham  30 November 2020 02:22AM   \n",
       "\n",
       "                                              markdown  \\\n",
       "356  When plans were first proposed to convert the ...   \n",
       "\n",
       "                                        featured_image  \n",
       "356  https://berkeleysciencereview.com/wp-content/u...  "
      ]
     },
     "execution_count": 68,
     "metadata": {},
     "output_type": "execute_result"
    }
   ],
   "source": [
    "articles[articles['title'] == 'Powering down']"
   ]
  },
  {
   "cell_type": "code",
   "execution_count": null,
   "metadata": {},
   "outputs": [],
   "source": []
  }
 ],
 "metadata": {
  "kernelspec": {
   "display_name": "Python 3",
   "language": "python",
   "name": "python3"
  },
  "language_info": {
   "codemirror_mode": {
    "name": "ipython",
    "version": 3
   },
   "file_extension": ".py",
   "mimetype": "text/x-python",
   "name": "python",
   "nbconvert_exporter": "python",
   "pygments_lexer": "ipython3",
   "version": "3.8.3"
  }
 },
 "nbformat": 4,
 "nbformat_minor": 4
}
